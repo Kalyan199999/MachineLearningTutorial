{
 "cells": [
  {
   "cell_type": "markdown",
   "id": "11765809",
   "metadata": {},
   "source": [
    "# PANDAS"
   ]
  },
  {
   "cell_type": "code",
   "execution_count": 1,
   "id": "78fba0c6",
   "metadata": {},
   "outputs": [],
   "source": [
    "import pandas as pd"
   ]
  },
  {
   "cell_type": "code",
   "execution_count": 2,
   "id": "0165dfc3",
   "metadata": {},
   "outputs": [
    {
     "data": {
      "text/plain": [
       "'1.5.3'"
      ]
     },
     "execution_count": 2,
     "metadata": {},
     "output_type": "execute_result"
    }
   ],
   "source": [
    "pd.__version__"
   ]
  },
  {
   "cell_type": "code",
   "execution_count": 5,
   "id": "fe09b4ff",
   "metadata": {},
   "outputs": [
    {
     "data": {
      "text/plain": [
       "[1, 2, -3, 6.3, 'kalyan', 'p']"
      ]
     },
     "execution_count": 5,
     "metadata": {},
     "output_type": "execute_result"
    }
   ],
   "source": [
    "a = [1,2,-3,6.3,\"kalyan\",'p']\n",
    "a"
   ]
  },
  {
   "cell_type": "code",
   "execution_count": 10,
   "id": "ce7ed371",
   "metadata": {},
   "outputs": [
    {
     "data": {
      "text/plain": [
       "0         1\n",
       "1         2\n",
       "2        -3\n",
       "3       6.3\n",
       "4    kalyan\n",
       "5         p\n",
       "dtype: object"
      ]
     },
     "execution_count": 10,
     "metadata": {},
     "output_type": "execute_result"
    }
   ],
   "source": [
    "# series 1D indexed array\n",
    "\n",
    "l1 = pd.Series(a)\n",
    "l1"
   ]
  },
  {
   "cell_type": "code",
   "execution_count": 11,
   "id": "7f3dddf1",
   "metadata": {},
   "outputs": [
    {
     "data": {
      "text/plain": [
       "pandas.core.series.Series"
      ]
     },
     "execution_count": 11,
     "metadata": {},
     "output_type": "execute_result"
    }
   ],
   "source": [
    "type(l1)"
   ]
  },
  {
   "cell_type": "code",
   "execution_count": 15,
   "id": "659e7016",
   "metadata": {},
   "outputs": [
    {
     "data": {
      "text/plain": [
       "0    10\n",
       "1    11\n",
       "2    12\n",
       "3    13\n",
       "4    14\n",
       "5    15\n",
       "dtype: int64"
      ]
     },
     "execution_count": 15,
     "metadata": {},
     "output_type": "execute_result"
    }
   ],
   "source": [
    "l2 = pd.Series([10,11,12,13,14,15])\n",
    "l2"
   ]
  },
  {
   "cell_type": "code",
   "execution_count": 20,
   "id": "7667a98b",
   "metadata": {},
   "outputs": [
    {
     "name": "stderr",
     "output_type": "stream",
     "text": [
      "C:\\Users\\Pavan Kalyan\\AppData\\Local\\Temp\\ipykernel_3768\\3069909210.py:1: FutureWarning: The default dtype for empty Series will be 'object' instead of 'float64' in a future version. Specify a dtype explicitly to silence this warning.\n",
      "  empty = pd.Series([])\n"
     ]
    },
    {
     "data": {
      "text/plain": [
       "Series([], dtype: float64)"
      ]
     },
     "execution_count": 20,
     "metadata": {},
     "output_type": "execute_result"
    }
   ],
   "source": [
    "empty = pd.Series([])\n",
    "empty"
   ]
  },
  {
   "cell_type": "code",
   "execution_count": 25,
   "id": "be4f4cbc",
   "metadata": {},
   "outputs": [
    {
     "data": {
      "text/plain": [
       "A       10\n",
       "B       11\n",
       "Cold    12\n",
       "D       13\n",
       "E       14\n",
       "F       15\n",
       "dtype: int64"
      ]
     },
     "execution_count": 25,
     "metadata": {},
     "output_type": "execute_result"
    }
   ],
   "source": [
    "# we can change the index of element\n",
    "l3 = pd.Series([10,11,12,13,14,15] ,index = ['A','B','Cold','D','E','F'])\n",
    "l3"
   ]
  },
  {
   "cell_type": "code",
   "execution_count": 27,
   "id": "ca90b856",
   "metadata": {
    "scrolled": true
   },
   "outputs": [
    {
     "data": {
      "text/plain": [
       "A    10.0\n",
       "B    11.0\n",
       "C    12.0\n",
       "D    13.0\n",
       "E    14.0\n",
       "F    15.0\n",
       "dtype: float64"
      ]
     },
     "execution_count": 27,
     "metadata": {},
     "output_type": "execute_result"
    }
   ],
   "source": [
    "l4 = pd.Series([10,11,12,13,14,15] ,index = ['A','B','C','D','E','F'] , dtype = \"float\")\n",
    "l4"
   ]
  },
  {
   "cell_type": "code",
   "execution_count": 28,
   "id": "7168a5ee",
   "metadata": {},
   "outputs": [
    {
     "data": {
      "text/plain": [
       "A    10.0\n",
       "B    11.0\n",
       "C    12.0\n",
       "D    13.0\n",
       "E    14.0\n",
       "F    15.0\n",
       "Name: Data Values, dtype: float64"
      ]
     },
     "execution_count": 28,
     "metadata": {},
     "output_type": "execute_result"
    }
   ],
   "source": [
    "l5 = pd.Series([10,11,12,13,14,15] ,index = ['A','B','C','D','E','F'] , dtype = \"float\" , name = \"Data Values\")\n",
    "l5"
   ]
  },
  {
   "cell_type": "code",
   "execution_count": 29,
   "id": "82844d0d",
   "metadata": {},
   "outputs": [
    {
     "data": {
      "text/plain": [
       "0    19\n",
       "dtype: int64"
      ]
     },
     "execution_count": 29,
     "metadata": {},
     "output_type": "execute_result"
    }
   ],
   "source": [
    "single = pd.Series(19 )\n",
    "single"
   ]
  },
  {
   "cell_type": "code",
   "execution_count": 30,
   "id": "f77ca0af",
   "metadata": {},
   "outputs": [
    {
     "data": {
      "text/plain": [
       "1    19\n",
       "2    19\n",
       "3    19\n",
       "4    19\n",
       "5    19\n",
       "dtype: int64"
      ]
     },
     "execution_count": 30,
     "metadata": {},
     "output_type": "execute_result"
    }
   ],
   "source": [
    "multiple = pd.Series(19 , index = [1,2,3,4,5])\n",
    "multiple"
   ]
  },
  {
   "cell_type": "code",
   "execution_count": 31,
   "id": "e538d196",
   "metadata": {},
   "outputs": [
    {
     "data": {
      "text/plain": [
       "a    17\n",
       "b    19\n",
       "c     7\n",
       "d     9\n",
       "dtype: int64"
      ]
     },
     "execution_count": 31,
     "metadata": {},
     "output_type": "execute_result"
    }
   ],
   "source": [
    "# using dictionery\n",
    "\n",
    "d = pd.Series( {'a':17,'b':19,'c':7,'d':9} )\n",
    "d"
   ]
  },
  {
   "cell_type": "code",
   "execution_count": null,
   "id": "0ee3187d",
   "metadata": {},
   "outputs": [],
   "source": []
  },
  {
   "cell_type": "markdown",
   "id": "ba8181df",
   "metadata": {},
   "source": [
    "# Accessing the series\n"
   ]
  },
  {
   "cell_type": "code",
   "execution_count": 39,
   "id": "f59aa3bb",
   "metadata": {},
   "outputs": [
    {
     "data": {
      "text/plain": [
       "0     18\n",
       "1     20\n",
       "2     35\n",
       "3    143\n",
       "4     95\n",
       "5     46\n",
       "dtype: int64"
      ]
     },
     "execution_count": 39,
     "metadata": {},
     "output_type": "execute_result"
    }
   ],
   "source": [
    "l5 = pd.Series( [18,20,35,143,95,46])\n",
    "l5"
   ]
  },
  {
   "cell_type": "code",
   "execution_count": 40,
   "id": "6d4cbe32",
   "metadata": {},
   "outputs": [
    {
     "data": {
      "text/plain": [
       "95"
      ]
     },
     "execution_count": 40,
     "metadata": {},
     "output_type": "execute_result"
    }
   ],
   "source": [
    "l5[4]"
   ]
  },
  {
   "cell_type": "code",
   "execution_count": 41,
   "id": "d00371b3",
   "metadata": {},
   "outputs": [
    {
     "data": {
      "text/plain": [
       "2     35\n",
       "3    143\n",
       "4     95\n",
       "dtype: int64"
      ]
     },
     "execution_count": 41,
     "metadata": {},
     "output_type": "execute_result"
    }
   ],
   "source": [
    "l5[2:5]"
   ]
  },
  {
   "cell_type": "code",
   "execution_count": null,
   "id": "830ad053",
   "metadata": {},
   "outputs": [],
   "source": []
  },
  {
   "cell_type": "code",
   "execution_count": 42,
   "id": "f8c38860",
   "metadata": {},
   "outputs": [
    {
     "data": {
      "text/plain": [
       "143"
      ]
     },
     "execution_count": 42,
     "metadata": {},
     "output_type": "execute_result"
    }
   ],
   "source": [
    "max(l5)"
   ]
  },
  {
   "cell_type": "code",
   "execution_count": 43,
   "id": "7da19289",
   "metadata": {},
   "outputs": [
    {
     "data": {
      "text/plain": [
       "18"
      ]
     },
     "execution_count": 43,
     "metadata": {},
     "output_type": "execute_result"
    }
   ],
   "source": [
    "min(l5)"
   ]
  },
  {
   "cell_type": "code",
   "execution_count": 44,
   "id": "7b552e25",
   "metadata": {},
   "outputs": [
    {
     "data": {
      "text/plain": [
       "3    143\n",
       "4     95\n",
       "dtype: int64"
      ]
     },
     "execution_count": 44,
     "metadata": {},
     "output_type": "execute_result"
    }
   ],
   "source": [
    "l5[ l5 > 50]"
   ]
  },
  {
   "cell_type": "code",
   "execution_count": 45,
   "id": "8b3df0fe",
   "metadata": {},
   "outputs": [
    {
     "data": {
      "text/plain": [
       "0     18\n",
       "1     20\n",
       "2     35\n",
       "3    143\n",
       "4     95\n",
       "5     46\n",
       "dtype: int64"
      ]
     },
     "execution_count": 45,
     "metadata": {},
     "output_type": "execute_result"
    }
   ],
   "source": [
    "l5\n"
   ]
  },
  {
   "cell_type": "code",
   "execution_count": null,
   "id": "5b6b3970",
   "metadata": {},
   "outputs": [],
   "source": []
  },
  {
   "cell_type": "code",
   "execution_count": 53,
   "id": "782eb7ac",
   "metadata": {},
   "outputs": [],
   "source": [
    "l6 = pd.Series([1,2,3,4,5])\n",
    "l7 = pd.Series([10,9,8,7,6])"
   ]
  },
  {
   "cell_type": "code",
   "execution_count": 54,
   "id": "d4f36796",
   "metadata": {},
   "outputs": [
    {
     "data": {
      "text/plain": [
       "0    11\n",
       "1    11\n",
       "2    11\n",
       "3    11\n",
       "4    11\n",
       "dtype: int64"
      ]
     },
     "execution_count": 54,
     "metadata": {},
     "output_type": "execute_result"
    }
   ],
   "source": [
    "# Addition\n",
    "\n",
    "l6 + l7"
   ]
  },
  {
   "cell_type": "code",
   "execution_count": 59,
   "id": "f6582190",
   "metadata": {},
   "outputs": [
    {
     "data": {
      "text/plain": [
       "0     19.0\n",
       "1     22.0\n",
       "2     38.0\n",
       "3    147.0\n",
       "4    100.0\n",
       "5      NaN\n",
       "dtype: float64"
      ]
     },
     "execution_count": 59,
     "metadata": {},
     "output_type": "execute_result"
    }
   ],
   "source": [
    "# if the size of 2 series are not same then the missing numbers are treated as NaN\n",
    "l5 + l6"
   ]
  }
 ],
 "metadata": {
  "kernelspec": {
   "display_name": "Python 3 (ipykernel)",
   "language": "python",
   "name": "python3"
  },
  "language_info": {
   "codemirror_mode": {
    "name": "ipython",
    "version": 3
   },
   "file_extension": ".py",
   "mimetype": "text/x-python",
   "name": "python",
   "nbconvert_exporter": "python",
   "pygments_lexer": "ipython3",
   "version": "3.11.4"
  }
 },
 "nbformat": 4,
 "nbformat_minor": 5
}
